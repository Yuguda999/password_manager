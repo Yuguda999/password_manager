{
 "cells": [
  {
   "cell_type": "markdown",
   "id": "2c4e83cd",
   "metadata": {},
   "source": [
    "## PYTHON ACADEMY COURSE COMPLETION PROJECT – COHORT 16"
   ]
  },
  {
   "cell_type": "markdown",
   "id": "880c82bb",
   "metadata": {},
   "source": [
    "### Scenario: \n",
    "Jerome is a teacher at the Grand Rapids High School. Due to the lack of teachers willing to accept in-person teaching positions during the Covid \n",
    "era, Jerome has had to teach Math, Chemistry, Biology and Physics for the 8th grade students. \n",
    "<p>The school term is made up of 96 class sessions and attendance is taken each day. Students earn 1 point for each class attendance. Jerome \n",
    "<p>computes percentage class attendance and awards proportional score with a maximum possible score of 12 points for the class attendance \n",
    "contribution to total performance for the school term. \n",
    "<p>There are class quizzes every week (19 in total for the term). Each quiz is graded over 10 maximum points. And a max aggregate score of 30 for \n",
    "the quiz contribution to total performance for the school term \n",
    "<p>Homework is assigned every week (19 in total for the term). Each homework is graded over 10 maximum points. And a max aggregate score of \n",
    "15 points for the homework contribution to total performance for the school term \n",
    "<p>Exams account for the remaining points. The table below provides the names of the students and their identity codes "
   ]
  },
  {
   "cell_type": "markdown",
   "id": "7e11582d",
   "metadata": {},
   "source": [
    "### Import Statements"
   ]
  },
  {
   "cell_type": "code",
   "execution_count": 1,
   "id": "01ef85e7",
   "metadata": {},
   "outputs": [],
   "source": [
    "import json\n",
    "import pandas as pd"
   ]
  },
  {
   "cell_type": "markdown",
   "id": "d788fee4",
   "metadata": {},
   "source": [
    "### SCRIPT CAPABILITIES: \n",
    "1. enables him to manually load each students scores by subject for quiz, homework, attendance, and exam using the python input() \n",
    "function. Use as data, the records in the Student Scores table below (Table1.0) \n",
    "2. Automatically computes the Average Score, GPA (0 to 5.0), Grade and Status (Pass, Fail, Retake) and stores in a container for each \n",
    "student as per the provided rating scales below \n",
    "3. Holds each student’s performance records in a container \n",
    "4. Holds each subject performance records in a container for all students \n",
    "5. Holds ALL student performance records for ALL subjects in a container. Note: this container should hold all student scores for subjects \n",
    "quiz, homework and exam scores, Average Score, GPA, Grade and Status. All in a Container of containers "
   ]
  },
  {
   "cell_type": "markdown",
   "id": "61807681",
   "metadata": {},
   "source": [
    "To add student's details, call the <strong>Add_student()</strong> function"
   ]
  },
  {
   "cell_type": "code",
   "execution_count": 2,
   "id": "0bf9bf20",
   "metadata": {},
   "outputs": [],
   "source": [
    "def Add_student():\n",
    "    \"\"\"The function adds student details and performance and stores it locally in a json file\"\"\"\n",
    "    categories = ['quiz_scores', 'homework', 'class_attendance', 'exam']\n",
    "    name = input('Student Name:')\n",
    "    id = input(\"Enter student's ID: \")\n",
    "    \n",
    "    # creating a dictionary container to hold student details\n",
    "    student_details = {name: {'id': id}}\n",
    "    \n",
    "    # getting the totals of all subject to compute the average of each subject\n",
    "    chem_total = 0\n",
    "    bio_total = 0\n",
    "    phy_total = 0\n",
    "    mth_total = 0\n",
    "    total_score = 576\n",
    "    \n",
    "    # setting initial average score for each category\n",
    "    Attendance_avg = 0\n",
    "    Quiz_avg = 0\n",
    "    Homework_avg = 0\n",
    "    Exam_avg = 0\n",
    "    \n",
    "    # looping through each category to enter scores for each subject\n",
    "    for category in categories:\n",
    "        print(f'Enter Scores for {category}')\n",
    "        chem = int(input('Enter Chemistry Score: '))\n",
    "        chem_total += chem\n",
    "    \n",
    "        bio = int(input('Enter Biology Score: '))\n",
    "        bio_total += bio\n",
    "    \n",
    "        phy = int(input('Enter Physics Score: '))\n",
    "        phy_total += phy\n",
    "    \n",
    "        mth = int(input('Enter Mathematics Score: '))\n",
    "        mth_total += mth\n",
    "        print('\\n')\n",
    "    \n",
    "        # computing total score for each category\n",
    "        if category == 'quiz_scores':\n",
    "            Quiz_avg = ((chem+bio+phy+mth) * 30)/(4*190)\n",
    "        elif category == 'homework':\n",
    "            Homework_avg = ((chem+bio+phy+mth) * 15)/(4*190)\n",
    "        elif category == 'class_attendance':\n",
    "            Attendance_avg = ((chem+bio+phy+mth) * 12)/(4*96)\n",
    "        elif category == 'exam':\n",
    "            Exam_avg = ((chem+bio+phy+mth) * 43)/(4*100)\n",
    "    \n",
    "        # container for each categories\n",
    "        new_category={'chemistry': chem,\n",
    "                 'biology': bio,\n",
    "                 'physics': phy,\n",
    "                 'math': mth}\n",
    "    \n",
    "        # appending each category to the student details container\n",
    "        student_details[name][category] = new_category\n",
    "    \n",
    "    # adding average scores of each student to student details container\n",
    "    student_details[name]['chem_avg'] = round(((chem_total/total_score)*100), 2)\n",
    "    student_details[name]['bio_avg'] = round(((bio_total/total_score)*100), 2)\n",
    "    student_details[name]['phy_avg'] = round(((phy_total/total_score)*100), 2)\n",
    "    student_details[name]['math_avg'] = round(((mth_total/total_score)*100), 2)\n",
    "    \n",
    "    # computing average, gpa, grade and status\n",
    "    Average = round((Attendance_avg + Quiz_avg + Homework_avg + Exam_avg), 2)\n",
    "    GPA = round(((Average/100) * 5), 1)\n",
    "    \n",
    "    # grade logic\n",
    "    grade = ''\n",
    "    if Average >= 90:\n",
    "        grade = 'A'\n",
    "    elif Average >= 75:\n",
    "        grade = 'B'\n",
    "    elif Average >= 65:\n",
    "        grade = 'C'\n",
    "    elif Average >= 55:\n",
    "        grade = 'D'\n",
    "    elif Average >= 50:\n",
    "        grade = 'E'\n",
    "    elif Average <= 50:\n",
    "        grade = 'F'\n",
    "    \n",
    "    # status logic\n",
    "    status = ''\n",
    "    if grade == 'A' or grade == 'B' or grade == 'C' or grade == 'D':\n",
    "        status = 'Pass'\n",
    "    elif grade == 'F':\n",
    "        status = 'Fail'\n",
    "    elif grade == 'E':\n",
    "        status = 'Retake'\n",
    "    \n",
    "    # Adding average, grade, gpa and status to student details container\n",
    "    student_details[name]['Average Score'] = Average\n",
    "    student_details[name]['GPA'] = GPA\n",
    "    student_details[name]['Grade'] = grade\n",
    "    student_details[name]['Status'] = status\n",
    "    \n",
    "    \n",
    "    # STORING STUDENTS DETAILS TO A JSON FILE\n",
    "    try:\n",
    "        with open('database.json', 'r') as data_file:\n",
    "            data = json.load(data_file)\n",
    "            data.update(student_details)\n",
    "    \n",
    "    except FileNotFoundError:\n",
    "        with open('database.json', 'w') as data_file:\n",
    "            json.dump(student_details, data_file, indent=4)\n",
    "    else:\n",
    "        with open('database.json', 'w') as data_file:\n",
    "            json.dump(data, data_file, indent=4)\n"
   ]
  },
  {
   "cell_type": "code",
   "execution_count": 3,
   "id": "ddf5c673",
   "metadata": {},
   "outputs": [],
   "source": [
    "# Add_student()"
   ]
  },
  {
   "cell_type": "markdown",
   "id": "1959189e",
   "metadata": {},
   "source": [
    "### SCRIPT UTILITY \n",
    "1. The full performance records of any student by simply providing the student’s name or ID \n",
    "2. Any student’s performance for any given subject by simply providing student name/ID and subject name \n",
    "3. Fetch the list of students in any of the grade categories (A, B, C, D, E, F) \n",
    "4. Fetch the list of students Statuses (Pass, Fail, Retake) \n",
    "5. Obtain a response from the script for any student to determine if they passed, failed, or need to retake the subject "
   ]
  },
  {
   "cell_type": "markdown",
   "id": "51ebdd13",
   "metadata": {},
   "source": [
    "#### Search student's performance by Name/Id"
   ]
  },
  {
   "cell_type": "code",
   "execution_count": 4,
   "id": "56af1079",
   "metadata": {},
   "outputs": [
    {
     "name": "stdout",
     "output_type": "stream",
     "text": [
      "Enter student's name/id: GR-0484\n",
      "Namukolo Abrams performance:\n",
      "id: GR-0484\n",
      "quiz_scores: {'chemistry': 141, 'biology': 177, 'physics': 21, 'math': 136}\n",
      "homework: {'chemistry': 82, 'biology': 170, 'physics': 12, 'math': 180}\n",
      "class_attendance: {'chemistry': 95, 'biology': 57, 'physics': 43, 'math': 48}\n",
      "exam: {'chemistry': 52, 'biology': 41, 'physics': 31, 'math': 31}\n",
      "chem_avg: 64.24\n",
      "bio_avg: 77.26\n",
      "phy_avg: 18.58\n",
      "math_avg: 68.58\n",
      "Average Score: 51.77\n",
      "GPA: 2.6\n",
      "Grade: E\n",
      "Status: Retake\n"
     ]
    }
   ],
   "source": [
    "try:\n",
    "    with open('database.json', 'r') as data_file:\n",
    "        data = json.load(data_file)\n",
    "except FileNotFoundError:\n",
    "    print('File does not Exist')\n",
    "else:\n",
    "    name_or_id = input(\"Enter student's name/id: \")\n",
    "    for name in data:\n",
    "        if name == name_or_id or data[name]['id'] == name_or_id:\n",
    "            print(f'{name} performance:')\n",
    "            stud_performance = data[name]\n",
    "    for items in stud_performance:\n",
    "        print(f'{items}: {data[name][items]}')"
   ]
  },
  {
   "cell_type": "markdown",
   "id": "c97fec4c",
   "metadata": {},
   "source": [
    "#### Search student's performance by subject name"
   ]
  },
  {
   "cell_type": "code",
   "execution_count": 5,
   "id": "4bb82d9e",
   "metadata": {},
   "outputs": [
    {
     "name": "stdout",
     "output_type": "stream",
     "text": [
      "Enter student's name/id: GR-0484\n",
      "Enter Subject Name: biology\n",
      "Bett James does not exist\n",
      "Namukolo Abrams scores for biology are:\n",
      "quiz_scores: 177\n",
      "homework: 170\n",
      "class_attendance: 57\n",
      "exam: 41\n",
      "bio_avg: 77.26\n"
     ]
    }
   ],
   "source": [
    "try:\n",
    "    with open('database.json', 'r') as data_file:\n",
    "        data = json.load(data_file)\n",
    "except FileNotFoundError:\n",
    "    print('File does not Exist')\n",
    "else:\n",
    "    name_or_id = input(\"Enter student's name/id: \")\n",
    "    subject = input('Enter Subject Name: ')\n",
    "    for name in data:\n",
    "        if name == name_or_id or data[name]['id'] == name_or_id:\n",
    "            print(f'{name} scores for {subject} are:')\n",
    "            for category in data[name]:\n",
    "                if category == 'quiz_scores' or category == 'homework' or category == 'class_attendance' or category == 'exam':\n",
    "                    print(f'{category}: {data[name][category][subject]}')\n",
    "                elif category[:3] == subject[:3]:\n",
    "                    print(f'{category}: {data[name][category]}')\n",
    "        else:\n",
    "            print(f\"{name} does not exist\")\n",
    "                \n",
    "            "
   ]
  },
  {
   "cell_type": "markdown",
   "id": "c8726bdc",
   "metadata": {},
   "source": [
    "#### Search student names by Grade"
   ]
  },
  {
   "cell_type": "code",
   "execution_count": 7,
   "id": "f8867b25",
   "metadata": {},
   "outputs": [
    {
     "name": "stdout",
     "output_type": "stream",
     "text": [
      "Enter grade: E\n",
      "List of students with grade E\n",
      "Namukolo Abrams\n"
     ]
    }
   ],
   "source": [
    "try:\n",
    "    with open('database.json', 'r') as data_file:\n",
    "        data = json.load(data_file)\n",
    "except FileNotFoundError:\n",
    "    print('File does not Exist')\n",
    "else:\n",
    "    grade = input('Enter grade: ')\n",
    "    print(f'List of students with grade {grade}')\n",
    "    for name in data:\n",
    "        if data[name]['Grade'] == grade:\n",
    "            print(name)"
   ]
  },
  {
   "cell_type": "markdown",
   "id": "d6b2cf78",
   "metadata": {},
   "source": [
    "#### To get the List of students statuses"
   ]
  },
  {
   "cell_type": "code",
   "execution_count": 8,
   "id": "95c2a9db",
   "metadata": {},
   "outputs": [
    {
     "name": "stdout",
     "output_type": "stream",
     "text": [
      "Bett James: Pass\n",
      "Namukolo Abrams: Retake\n"
     ]
    }
   ],
   "source": [
    "# fetch the list of student statuses\n",
    "try:\n",
    "    with open('database.json', 'r') as data_file:\n",
    "        data = json.load(data_file)\n",
    "except FileNotFoundError:\n",
    "    print('File does not Exist')\n",
    "else:\n",
    "    for name in data:\n",
    "        print(f\"{name}: {data[name]['Status']}\")\n"
   ]
  },
  {
   "cell_type": "markdown",
   "id": "36c0e425",
   "metadata": {},
   "source": [
    "#### To Obtain a response from the script for any student to determine their status"
   ]
  },
  {
   "cell_type": "code",
   "execution_count": 9,
   "id": "91c80fd6",
   "metadata": {},
   "outputs": [
    {
     "name": "stdout",
     "output_type": "stream",
     "text": [
      "Enter student's name/id: GR-0484\n",
      "Name: Namukolo Abrams\n",
      "Status: Retake\n"
     ]
    }
   ],
   "source": [
    "try:\n",
    "    with open('database.json', 'r') as data_file:\n",
    "        data = json.load(data_file)\n",
    "except FileNotFoundError:\n",
    "    print('File does not Exist')\n",
    "else:\n",
    "    name_or_id = input(\"Enter student's name/id: \")\n",
    "    for name in data:\n",
    "        if name == name_or_id or data[name]['id'] == name_or_id:\n",
    "            print(f\"Name: {name}\\nStatus: {data[name]['Status']}\")"
   ]
  },
  {
   "cell_type": "markdown",
   "id": "6af9990a",
   "metadata": {},
   "source": [
    "## BONUS POINT"
   ]
  },
  {
   "cell_type": "markdown",
   "id": "7636d8f8",
   "metadata": {},
   "source": [
    "#### To save the Required data as a csv package"
   ]
  },
  {
   "cell_type": "code",
   "execution_count": 2,
   "id": "c1401a47",
   "metadata": {},
   "outputs": [],
   "source": [
    "# reading the json file\n",
    "try:\n",
    "    with open('database.json', 'r') as data_file:\n",
    "        data = json.load(data_file)\n",
    "except FileNotFoundError:\n",
    "    print('File does not Exist')\n",
    "else:\n",
    "    # creating a header and values for the dataframe\n",
    "    header= ['Name','ID','Chem Quiz','Bio Quiz','Phy Quiz','Mth Quiz','Chem HW','Bio HW','Phy HW',\n",
    "             'Math HW','Chem Attnd','Bio Attnd','Phy Attnd','Math Attnd','Chem Exam','Bio Exam',\n",
    "             'Phy Exam','Math Exam','Chem AVG','Bio AVG',   'Phy AVG',  'Math AVG', 'Avg Score',\n",
    "             'GPA','Grade','Status']\n",
    "    values=[]\n",
    "    #looping through to fetch needed data from the json file\n",
    "    for name in data:\n",
    "        student_details_list=[\n",
    "            name,\n",
    "            data[name]['id'],\n",
    "            data[name]['quiz_scores']['chemistry'],\n",
    "            data[name]['quiz_scores']['biology'],\n",
    "            data[name]['quiz_scores']['physics'],\n",
    "            data[name]['quiz_scores']['math'],\n",
    "            data[name]['homework']['chemistry'],\n",
    "            data[name]['homework']['biology'],\n",
    "            data[name]['homework']['physics'],\n",
    "            data[name]['homework']['math'],\n",
    "            data[name]['class_attendance']['chemistry'],\n",
    "            data[name]['class_attendance']['biology'],\n",
    "            data[name]['class_attendance']['physics'],\n",
    "            data[name]['class_attendance']['math'],\n",
    "            data[name]['exam']['chemistry'],\n",
    "            data[name]['exam']['biology'],\n",
    "            data[name]['exam']['physics'],\n",
    "            data[name]['exam']['math'],\n",
    "            data[name]['chem_avg'],\n",
    "            data[name]['bio_avg'],\n",
    "            data[name]['phy_avg'],\n",
    "            data[name]['math_avg'],\n",
    "            data[name]['Average Score'],\n",
    "            data[name]['GPA'],\n",
    "            data[name]['Grade'],\n",
    "            data[name]['Status']\n",
    "            ]\n",
    "        values.append(student_details_list)\n"
   ]
  },
  {
   "cell_type": "code",
   "execution_count": 3,
   "id": "31acfef9",
   "metadata": {
    "scrolled": false
   },
   "outputs": [],
   "source": [
    "# to create the dataframe\n",
    "df = pd.DataFrame(values, columns = header)\n"
   ]
  },
  {
   "cell_type": "code",
   "execution_count": 5,
   "id": "462d169e",
   "metadata": {},
   "outputs": [],
   "source": [
    "# to save data to csv package\n",
    "df.to_csv('csv_file.csv', index=False)"
   ]
  },
  {
   "cell_type": "code",
   "execution_count": 8,
   "id": "cdb00200",
   "metadata": {},
   "outputs": [
    {
     "data": {
      "text/html": [
       "<div>\n",
       "<style scoped>\n",
       "    .dataframe tbody tr th:only-of-type {\n",
       "        vertical-align: middle;\n",
       "    }\n",
       "\n",
       "    .dataframe tbody tr th {\n",
       "        vertical-align: top;\n",
       "    }\n",
       "\n",
       "    .dataframe thead th {\n",
       "        text-align: right;\n",
       "    }\n",
       "</style>\n",
       "<table border=\"1\" class=\"dataframe\">\n",
       "  <thead>\n",
       "    <tr style=\"text-align: right;\">\n",
       "      <th></th>\n",
       "      <th>Name</th>\n",
       "      <th>ID</th>\n",
       "      <th>Chem Quiz</th>\n",
       "      <th>Bio Quiz</th>\n",
       "      <th>Phy Quiz</th>\n",
       "      <th>Mth Quiz</th>\n",
       "      <th>Chem HW</th>\n",
       "      <th>Bio HW</th>\n",
       "      <th>Phy HW</th>\n",
       "      <th>Math HW</th>\n",
       "      <th>Chem Attnd</th>\n",
       "      <th>Bio Attnd</th>\n",
       "      <th>Phy Attnd</th>\n",
       "      <th>Math Attnd</th>\n",
       "      <th>Chem Exam</th>\n",
       "      <th>Bio Exam</th>\n",
       "      <th>Phy Exam</th>\n",
       "      <th>Math Exam</th>\n",
       "      <th>Chem AVG</th>\n",
       "      <th>Bio AVG</th>\n",
       "      <th>Phy AVG</th>\n",
       "      <th>Math AVG</th>\n",
       "      <th>Avg Score</th>\n",
       "      <th>GPA</th>\n",
       "      <th>Grade</th>\n",
       "      <th>Status</th>\n",
       "    </tr>\n",
       "  </thead>\n",
       "  <tbody>\n",
       "    <tr>\n",
       "      <th>0</th>\n",
       "      <td>Bett James</td>\n",
       "      <td>GR-0483</td>\n",
       "      <td>127</td>\n",
       "      <td>184</td>\n",
       "      <td>52</td>\n",
       "      <td>133</td>\n",
       "      <td>135</td>\n",
       "      <td>186</td>\n",
       "      <td>142</td>\n",
       "      <td>97</td>\n",
       "      <td>17</td>\n",
       "      <td>58</td>\n",
       "      <td>29</td>\n",
       "      <td>34</td>\n",
       "      <td>46</td>\n",
       "      <td>97</td>\n",
       "      <td>73</td>\n",
       "      <td>45</td>\n",
       "      <td>56.42</td>\n",
       "      <td>91.15</td>\n",
       "      <td>51.39</td>\n",
       "      <td>53.65</td>\n",
       "      <td>63.00</td>\n",
       "      <td>3.1</td>\n",
       "      <td>D</td>\n",
       "      <td>Pass</td>\n",
       "    </tr>\n",
       "    <tr>\n",
       "      <th>1</th>\n",
       "      <td>Namukolo Abrams</td>\n",
       "      <td>GR-0484</td>\n",
       "      <td>141</td>\n",
       "      <td>177</td>\n",
       "      <td>21</td>\n",
       "      <td>136</td>\n",
       "      <td>82</td>\n",
       "      <td>170</td>\n",
       "      <td>12</td>\n",
       "      <td>180</td>\n",
       "      <td>95</td>\n",
       "      <td>57</td>\n",
       "      <td>43</td>\n",
       "      <td>48</td>\n",
       "      <td>52</td>\n",
       "      <td>41</td>\n",
       "      <td>31</td>\n",
       "      <td>31</td>\n",
       "      <td>64.24</td>\n",
       "      <td>77.26</td>\n",
       "      <td>18.58</td>\n",
       "      <td>68.58</td>\n",
       "      <td>51.77</td>\n",
       "      <td>2.6</td>\n",
       "      <td>E</td>\n",
       "      <td>Retake</td>\n",
       "    </tr>\n",
       "  </tbody>\n",
       "</table>\n",
       "</div>"
      ],
      "text/plain": [
       "              Name       ID  Chem Quiz  Bio Quiz  Phy Quiz  Mth Quiz  Chem HW  \\\n",
       "0       Bett James  GR-0483        127       184        52       133      135   \n",
       "1  Namukolo Abrams  GR-0484        141       177        21       136       82   \n",
       "\n",
       "   Bio HW  Phy HW  Math HW  Chem Attnd  Bio Attnd  Phy Attnd  Math Attnd  \\\n",
       "0     186     142       97          17         58         29          34   \n",
       "1     170      12      180          95         57         43          48   \n",
       "\n",
       "   Chem Exam  Bio Exam  Phy Exam  Math Exam  Chem AVG  Bio AVG  Phy AVG  \\\n",
       "0         46        97        73         45     56.42    91.15    51.39   \n",
       "1         52        41        31         31     64.24    77.26    18.58   \n",
       "\n",
       "   Math AVG  Avg Score  GPA Grade  Status  \n",
       "0     53.65      63.00  3.1     D    Pass  \n",
       "1     68.58      51.77  2.6     E  Retake  "
      ]
     },
     "execution_count": 8,
     "metadata": {},
     "output_type": "execute_result"
    }
   ],
   "source": [
    "# to preview the data\n",
    "pd.set_option('display.max_columns',None)\n",
    "pd.set_option('display.max_rows',None)\n",
    "df = pd.read_csv('csv_file.csv')\n",
    "df.head()"
   ]
  }
 ],
 "metadata": {
  "kernelspec": {
   "display_name": "Python 3 (ipykernel)",
   "language": "python",
   "name": "python3"
  },
  "language_info": {
   "codemirror_mode": {
    "name": "ipython",
    "version": 3
   },
   "file_extension": ".py",
   "mimetype": "text/x-python",
   "name": "python",
   "nbconvert_exporter": "python",
   "pygments_lexer": "ipython3",
   "version": "3.9.12"
  }
 },
 "nbformat": 4,
 "nbformat_minor": 5
}
